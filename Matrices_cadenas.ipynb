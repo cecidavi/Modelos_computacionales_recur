{
 "cells": [
  {
   "cell_type": "code",
   "execution_count": null,
   "metadata": {},
   "outputs": [],
   "source": [
    "import numpy as np\n",
    "import pandas as pd"
   ]
  },
  {
   "cell_type": "code",
   "execution_count": 3,
   "metadata": {},
   "outputs": [
    {
     "name": "stdout",
     "output_type": "stream",
     "text": [
      "Matriz de estado estable :\n",
      "0.442\n",
      "0.363\n",
      "0.195\n"
     ]
    }
   ],
   "source": [
    "##Creamos la matriz del exel \n",
    "mk = [[0.6, 0.3, 0.1], [0.3, 0.5, 0.2], [0.35, 0.25, 0.4]]\n",
    "##Hacemos una funcion para determinar el el estado estable  \n",
    "def calcular_estado_estable(matriz_transicion, iteraciones=10):\n",
    "    n = len(matriz_transicion)\n",
    "    estado = [1 / n] * n  # Suponemos un estado inicial uniforme\n",
    "    for _ in range(iteraciones):\n",
    "        estado = [sum(estado[j] * matriz_transicion[j][i] for j in range(n)) for i in range(n)]\n",
    "    return estado\n",
    "##Ejecutamos la funcion y el resultado lo uardamos en la barible estado_estable\n",
    "estado_estable = calcular_estado_estable(mk)\n",
    "\n",
    "# Redondeamos 3 decimales para qub enos de como en el exel XD \n",
    "estado_estable_redondeado = [round(estado, 3) for estado in estado_estable]\n",
    "##La imprimimos y nos dio el mismo resulrtado que en el exel \n",
    "print(\"Matriz de estado estable :\")\n",
    "for estado in estado_estable_redondeado:\n",
    "    print(estado)\n",
    "\n",
    "\n",
    "print(.25*)\n"
   ]
  }
 ],
 "metadata": {
  "kernelspec": {
   "display_name": "Python 3",
   "language": "python",
   "name": "python3"
  },
  "language_info": {
   "codemirror_mode": {
    "name": "ipython",
    "version": 3
   },
   "file_extension": ".py",
   "mimetype": "text/x-python",
   "name": "python",
   "nbconvert_exporter": "python",
   "pygments_lexer": "ipython3",
   "version": "3.11.8"
  }
 },
 "nbformat": 4,
 "nbformat_minor": 2
}
