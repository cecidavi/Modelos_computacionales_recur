{
 "cells": [
  {
   "cell_type": "code",
   "execution_count": 1,
   "metadata": {},
   "outputs": [],
   "source": [
    "import numpy as np"
   ]
  },
  {
   "cell_type": "code",
   "execution_count": 2,
   "metadata": {},
   "outputs": [
    {
     "name": "stdout",
     "output_type": "stream",
     "text": [
      "Después de un mes:\n",
      "Comprarán el producto: 260.0\n",
      "No comprarán el producto: 660.0\n",
      "\n",
      "Después de dos meses:\n",
      "Comprarán el producto: 340.0\n",
      "No comprarán el producto: 540.0\n"
     ]
    }
   ],
   "source": [
    "# Definir la matriz de transición\n",
    "P = np.array([[0.8, 0.3],\n",
    "              [0.2, 0.7]])\n",
    "\n",
    "# Estado inicial\n",
    "estado_inicial = np.array([100, 900])  # 100 compraron el producto, 900 no lo compraron\n",
    "\n",
    "# Calcular el estado después de un mes\n",
    "estado_despues_un_mes = np.dot(estado_inicial, P)\n",
    "\n",
    "# Calcular el estado después de dos meses\n",
    "estado_despues_dos_meses = np.dot(estado_despues_un_mes, P)\n",
    "\n",
    "# Imprimir resultados\n",
    "print(\"Después de un mes:\")\n",
    "print(\"Comprarán el producto:\", estado_despues_un_mes[0])\n",
    "print(\"No comprarán el producto:\", estado_despues_un_mes[1])\n",
    "print(\"\\nDespués de dos meses:\")\n",
    "print(\"Comprarán el producto:\", estado_despues_dos_meses[0])\n",
    "print(\"No comprarán el producto:\", estado_despues_dos_meses[1])\n"
   ]
  },
  {
   "cell_type": "code",
   "execution_count": 3,
   "metadata": {},
   "outputs": [
    {
     "name": "stdout",
     "output_type": "stream",
     "text": [
      "Porcentaje de mercado en estado estable:\n",
      "Guinness: 52.08333333333333 %\n",
      "Heineken: 35.41666666666666 %\n"
     ]
    }
   ],
   "source": [
    "# Definir la matriz de transición\n",
    "P = np.array([[0.7, 0.2, 0.1],\n",
    "              [0.3, 0.6, 0.1],\n",
    "              [0.4, 0.3, 0.3]])\n",
    "\n",
    "# Calcular los vectores y valores propios\n",
    "eigenvalues, eigenvectors = np.linalg.eig(P.T)\n",
    "\n",
    "# Encontrar el vector propio correspondiente al valor propio 1\n",
    "index = np.argmin(np.abs(eigenvalues - 1.0))\n",
    "steady_state = np.real(eigenvectors[:, index])\n",
    "steady_state = steady_state / np.sum(steady_state)  # Normalizar para obtener las proporciones\n",
    "\n",
    "# Imprimir resultados\n",
    "print(\"Porcentaje de mercado en estado estable:\")\n",
    "print(\"Guinness:\", steady_state[0] * 100, \"%\")\n",
    "print(\"Heineken:\", steady_state[1] * 100, \"%\")\n"
   ]
  }
 ],
 "metadata": {
  "kernelspec": {
   "display_name": "Python 3",
   "language": "python",
   "name": "python3"
  },
  "language_info": {
   "codemirror_mode": {
    "name": "ipython",
    "version": 3
   },
   "file_extension": ".py",
   "mimetype": "text/x-python",
   "name": "python",
   "nbconvert_exporter": "python",
   "pygments_lexer": "ipython3",
   "version": "3.11.9"
  }
 },
 "nbformat": 4,
 "nbformat_minor": 2
}
