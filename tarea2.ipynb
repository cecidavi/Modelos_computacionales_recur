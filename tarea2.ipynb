{
 "cells": [
  {
   "cell_type": "code",
   "execution_count": null,
   "metadata": {},
   "outputs": [],
   "source": [
    "import random\n",
    "import math\n",
    "import matplotlib.pyplot as plt\n",
    "\n",
    "x_values = [random.randint(0, 100) for _ in range(20)]\n",
    "\n",
    "y_values = [math.sqrt(x) for x in x_values]\n",
    "\n",
    "plt.scatter(x_values, y_values)\n",
    "\n",
    "plt.xlabel('Eje X (Números aleatorios entre 0 y 100)')\n",
    "plt.ylabel('Eje Y (Raíz cuadrada)')\n",
    "plt.title('Gráfico de Dispersión: Números Aleatorios vs. Raíz Cuadrada')\n",
    "plt.show()\n"
   ]
  },
  {
   "cell_type": "code",
   "execution_count": null,
   "metadata": {},
   "outputs": [],
   "source": [
    "import numpy as np\n",
    "\n",
    "matrix_a = np.random.randint(-1000, 1001, (3, 3))\n",
    "matrix_b = np.random.randint(-1000, 1001, (3, 3))\n",
    "\n",
    "dot_product = np.dot(matrix_a.flatten(), matrix_b.flatten())\n",
    "\n",
    "print(\"Matriz A:\")\n",
    "print(matrix_a)\n",
    "print(\"\\nMatriz B:\")\n",
    "print(matrix_b)\n",
    "print(\"\\nProducto Escalar:\", dot_product)\n"
   ]
  },
  {
   "cell_type": "code",
   "execution_count": null,
   "metadata": {},
   "outputs": [],
   "source": [
    "import numpy as np\n",
    "\n",
    "matrix_a_2 = np.random.randint(-1000, 1001, (3, 2))\n",
    "matrix_b_2 = np.random.randint(-1000, 1001, (2, 2))\n",
    "\n",
    "dot_product_2 = np.dot(matrix_a_2.flatten(), matrix_b_2.flatten())\n",
    "\n",
    "print(\"Matriz A:\")\n",
    "print(matrix_a_2)\n",
    "print(\"\\nMatriz B:\")\n",
    "print(matrix_b_2)\n",
    "print(\"\\nProducto Escalar:\", dot_product_2)\n",
    "\n",
    "\n"
   ]
  },
  {
   "cell_type": "code",
   "execution_count": null,
   "metadata": {},
   "outputs": [],
   "source": [
    "import numpy as np\n",
    "\n",
    "matrix_a_3 = np.random.randint(-100, 101, (3, 3))\n",
    "vector_b_3 = np.random.randint(-100, 101, 3)\n",
    "\n",
    "dot_product_3 = np.dot(matrix_a_3, vector_b_3)\n",
    "\n",
    "print(\"Matriz A:\")\n",
    "print(matrix_a_3)\n",
    "print(\"\\nVector B:\")\n",
    "print(vector_b_3)\n",
    "print(\"\\nProducto Escalar:\", dot_product_3)\n",
    "\n",
    "\n"
   ]
  }
 ],
 "metadata": {
  "kernelspec": {
   "display_name": "Python 3",
   "language": "python",
   "name": "python3"
  },
  "language_info": {
   "codemirror_mode": {
    "name": "ipython",
    "version": 3
   },
   "file_extension": ".py",
   "mimetype": "text/x-python",
   "name": "python",
   "nbconvert_exporter": "python",
   "pygments_lexer": "ipython3",
   "version": "3.11.7"
  }
 },
 "nbformat": 4,
 "nbformat_minor": 2
}
