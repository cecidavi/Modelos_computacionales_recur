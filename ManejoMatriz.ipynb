{
 "cells": [
  {
   "cell_type": "code",
   "execution_count": 14,
   "metadata": {},
   "outputs": [
    {
     "name": "stdout",
     "output_type": "stream",
     "text": [
      "[1, 2, 3, 0]\n",
      "[3, 5, 4, 1]\n",
      "suma [4 7 7 1]\n",
      "resta [-2 -3 -1 -1]\n",
      "multiplicacion [ 3 10 12  0]\n",
      "multiplicacion [1 4 9 0]\n",
      "divicion [0.33333333 0.4        0.75       0.        ]\n",
      "absoluto [1 2 3 0]\n"
     ]
    }
   ],
   "source": [
    "import  numpy as np \n",
    " \n",
    "arreglo1 = [1,2,3,0]\n",
    "arreglo2 = [3,5,4,1]\n",
    "\n",
    "print(arreglo1)\n",
    "print(arreglo2)\n",
    "\n",
    "print(\"suma\",np.add(arreglo1,arreglo2))\n",
    "print(\"resta\",np.subtract(arreglo1,arreglo2))\n",
    "print(\"multiplicacion\",np.multiply(arreglo1,arreglo2))\n",
    "print(\"multiplicacion\",np.power(arreglo1,2))\n",
    "print(\"divicion\",np.divide(arreglo1,arreglo2))\n",
    "print(\"absoluto\",np.absolute(arreglo1))"
   ]
  },
  {
   "cell_type": "code",
   "execution_count": 27,
   "metadata": {},
   "outputs": [
    {
     "name": "stdout",
     "output_type": "stream",
     "text": [
      "[[ 1  2]\n",
      " [-3  0]]\n",
      "[[3 5]\n",
      " [4 1]]\n",
      "\n",
      "suma [[4 7]\n",
      " [1 1]]\n",
      "\n",
      "resta [[-2 -3]\n",
      " [-7 -1]]\n",
      "\n",
      "multiplicacion [[  3  10]\n",
      " [-12   0]]\n",
      "\n",
      "multiplicacion [[1 4]\n",
      " [9 0]]\n",
      "\n",
      "divicion [[ 0.33333333  0.4       ]\n",
      " [-0.75        0.        ]]\n",
      "\n",
      "absoluto [[1 2]\n",
      " [3 0]]\n",
      "\n",
      "producto escalar [[ 11   7]\n",
      " [ -9 -15]]\n"
     ]
    }
   ],
   "source": [
    "arreglo1=np.array([[1,2],[-3,0]])\n",
    "arreglo2=np.array([[3,5],[4,1]])\n",
    "\n",
    "print(arreglo1)\n",
    "print(arreglo2)\n",
    "\n",
    "print(\"\\nsuma\",np.add(arreglo1,arreglo2))\n",
    "print(\"\\nresta\",np.subtract(arreglo1,arreglo2))\n",
    "print(\"\\nmultiplicacion\",np.multiply(arreglo1,arreglo2))\n",
    "print(\"\\nmultiplicacion\",np.power(arreglo1,2))\n",
    "print(\"\\ndivicion\",np.divide(arreglo1,arreglo2))\n",
    "print(\"\\nabsoluto\",np.absolute(arreglo1))\n",
    "print(\"\\nproducto escalar\",(arreglo1.dot(arreglo2)))"
   ]
  }
 ],
 "metadata": {
  "kernelspec": {
   "display_name": "Python 3",
   "language": "python",
   "name": "python3"
  },
  "language_info": {
   "codemirror_mode": {
    "name": "ipython",
    "version": 3
   },
   "file_extension": ".py",
   "mimetype": "text/x-python",
   "name": "python",
   "nbconvert_exporter": "python",
   "pygments_lexer": "ipython3",
   "version": "3.11.8"
  }
 },
 "nbformat": 4,
 "nbformat_minor": 2
}
